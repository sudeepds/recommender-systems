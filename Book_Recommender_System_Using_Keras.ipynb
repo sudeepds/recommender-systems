{
  "nbformat": 4,
  "nbformat_minor": 0,
  "metadata": {
    "colab": {
      "name": "Book Recommender System.ipynb",
      "provenance": [],
      "collapsed_sections": [],
      "mount_file_id": "14YMVDl87GI0t78vFdhWh6WXgbGiCuzm1",
      "authorship_tag": "ABX9TyO1HIq2YV11QyQEP883w8Mk",
      "include_colab_link": true
    },
    "kernelspec": {
      "name": "python3",
      "display_name": "Python 3"
    },
    "language_info": {
      "name": "python"
    }
  },
  "cells": [
    {
      "cell_type": "markdown",
      "metadata": {
        "id": "view-in-github",
        "colab_type": "text"
      },
      "source": [
        "<a href=\"https://colab.research.google.com/github/sudeepds/recommender-systems/blob/main/Book_Recommender_System_Using_Keras.ipynb\" target=\"_parent\"><img src=\"https://colab.research.google.com/assets/colab-badge.svg\" alt=\"Open In Colab\"/></a>"
      ]
    },
    {
      "cell_type": "markdown",
      "source": [
        "# Book Recommender System\n",
        "Reference: https://www.kaggle.com/tannergi/book-recommendation-system/notebook\n",
        "Dataset: https://github.com/zygmuntz/goodbooks-10k\n",
        "Using Tensor Flow"
      ],
      "metadata": {
        "id": "ayq2dFAXxq-o"
      }
    },
    {
      "cell_type": "code",
      "execution_count": null,
      "metadata": {
        "id": "en-j4F0fxpuB"
      },
      "outputs": [],
      "source": [
        "## Imports\n",
        "import numpy as np\n",
        "import pandas as pd\n",
        "import matplotlib.pyplot as plt\n",
        "import os\n",
        "import warnings\n",
        "\n",
        "from keras.layers import Input, Embedding, Flatten, Dot, Dense\n",
        "from keras.models import Model\n",
        "\n",
        "warnings.filterwarnings('ignore')\n",
        "%matplotlib inline"
      ]
    },
    {
      "cell_type": "code",
      "source": [
        "dataset = pd.read_csv(\"./drive/MyDrive/Datasets/goodbooks-10k/ratings.csv\")"
      ],
      "metadata": {
        "id": "ZdMpEB6ny1Wj"
      },
      "execution_count": null,
      "outputs": []
    },
    {
      "cell_type": "code",
      "source": [
        "dataset.head()"
      ],
      "metadata": {
        "colab": {
          "base_uri": "https://localhost:8080/",
          "height": 206
        },
        "id": "D4f8UN9vzxNo",
        "outputId": "da8d8b7c-01a8-455b-fd4f-099d201c7675"
      },
      "execution_count": null,
      "outputs": [
        {
          "output_type": "execute_result",
          "data": {
            "text/html": [
              "\n",
              "  <div id=\"df-8dfdf698-6704-4e52-a577-845aea38ad17\">\n",
              "    <div class=\"colab-df-container\">\n",
              "      <div>\n",
              "<style scoped>\n",
              "    .dataframe tbody tr th:only-of-type {\n",
              "        vertical-align: middle;\n",
              "    }\n",
              "\n",
              "    .dataframe tbody tr th {\n",
              "        vertical-align: top;\n",
              "    }\n",
              "\n",
              "    .dataframe thead th {\n",
              "        text-align: right;\n",
              "    }\n",
              "</style>\n",
              "<table border=\"1\" class=\"dataframe\">\n",
              "  <thead>\n",
              "    <tr style=\"text-align: right;\">\n",
              "      <th></th>\n",
              "      <th>user_id</th>\n",
              "      <th>book_id</th>\n",
              "      <th>rating</th>\n",
              "    </tr>\n",
              "  </thead>\n",
              "  <tbody>\n",
              "    <tr>\n",
              "      <th>0</th>\n",
              "      <td>1</td>\n",
              "      <td>258</td>\n",
              "      <td>5</td>\n",
              "    </tr>\n",
              "    <tr>\n",
              "      <th>1</th>\n",
              "      <td>2</td>\n",
              "      <td>4081</td>\n",
              "      <td>4</td>\n",
              "    </tr>\n",
              "    <tr>\n",
              "      <th>2</th>\n",
              "      <td>2</td>\n",
              "      <td>260</td>\n",
              "      <td>5</td>\n",
              "    </tr>\n",
              "    <tr>\n",
              "      <th>3</th>\n",
              "      <td>2</td>\n",
              "      <td>9296</td>\n",
              "      <td>5</td>\n",
              "    </tr>\n",
              "    <tr>\n",
              "      <th>4</th>\n",
              "      <td>2</td>\n",
              "      <td>2318</td>\n",
              "      <td>3</td>\n",
              "    </tr>\n",
              "  </tbody>\n",
              "</table>\n",
              "</div>\n",
              "      <button class=\"colab-df-convert\" onclick=\"convertToInteractive('df-8dfdf698-6704-4e52-a577-845aea38ad17')\"\n",
              "              title=\"Convert this dataframe to an interactive table.\"\n",
              "              style=\"display:none;\">\n",
              "        \n",
              "  <svg xmlns=\"http://www.w3.org/2000/svg\" height=\"24px\"viewBox=\"0 0 24 24\"\n",
              "       width=\"24px\">\n",
              "    <path d=\"M0 0h24v24H0V0z\" fill=\"none\"/>\n",
              "    <path d=\"M18.56 5.44l.94 2.06.94-2.06 2.06-.94-2.06-.94-.94-2.06-.94 2.06-2.06.94zm-11 1L8.5 8.5l.94-2.06 2.06-.94-2.06-.94L8.5 2.5l-.94 2.06-2.06.94zm10 10l.94 2.06.94-2.06 2.06-.94-2.06-.94-.94-2.06-.94 2.06-2.06.94z\"/><path d=\"M17.41 7.96l-1.37-1.37c-.4-.4-.92-.59-1.43-.59-.52 0-1.04.2-1.43.59L10.3 9.45l-7.72 7.72c-.78.78-.78 2.05 0 2.83L4 21.41c.39.39.9.59 1.41.59.51 0 1.02-.2 1.41-.59l7.78-7.78 2.81-2.81c.8-.78.8-2.07 0-2.86zM5.41 20L4 18.59l7.72-7.72 1.47 1.35L5.41 20z\"/>\n",
              "  </svg>\n",
              "      </button>\n",
              "      \n",
              "  <style>\n",
              "    .colab-df-container {\n",
              "      display:flex;\n",
              "      flex-wrap:wrap;\n",
              "      gap: 12px;\n",
              "    }\n",
              "\n",
              "    .colab-df-convert {\n",
              "      background-color: #E8F0FE;\n",
              "      border: none;\n",
              "      border-radius: 50%;\n",
              "      cursor: pointer;\n",
              "      display: none;\n",
              "      fill: #1967D2;\n",
              "      height: 32px;\n",
              "      padding: 0 0 0 0;\n",
              "      width: 32px;\n",
              "    }\n",
              "\n",
              "    .colab-df-convert:hover {\n",
              "      background-color: #E2EBFA;\n",
              "      box-shadow: 0px 1px 2px rgba(60, 64, 67, 0.3), 0px 1px 3px 1px rgba(60, 64, 67, 0.15);\n",
              "      fill: #174EA6;\n",
              "    }\n",
              "\n",
              "    [theme=dark] .colab-df-convert {\n",
              "      background-color: #3B4455;\n",
              "      fill: #D2E3FC;\n",
              "    }\n",
              "\n",
              "    [theme=dark] .colab-df-convert:hover {\n",
              "      background-color: #434B5C;\n",
              "      box-shadow: 0px 1px 3px 1px rgba(0, 0, 0, 0.15);\n",
              "      filter: drop-shadow(0px 1px 2px rgba(0, 0, 0, 0.3));\n",
              "      fill: #FFFFFF;\n",
              "    }\n",
              "  </style>\n",
              "\n",
              "      <script>\n",
              "        const buttonEl =\n",
              "          document.querySelector('#df-8dfdf698-6704-4e52-a577-845aea38ad17 button.colab-df-convert');\n",
              "        buttonEl.style.display =\n",
              "          google.colab.kernel.accessAllowed ? 'block' : 'none';\n",
              "\n",
              "        async function convertToInteractive(key) {\n",
              "          const element = document.querySelector('#df-8dfdf698-6704-4e52-a577-845aea38ad17');\n",
              "          const dataTable =\n",
              "            await google.colab.kernel.invokeFunction('convertToInteractive',\n",
              "                                                     [key], {});\n",
              "          if (!dataTable) return;\n",
              "\n",
              "          const docLinkHtml = 'Like what you see? Visit the ' +\n",
              "            '<a target=\"_blank\" href=https://colab.research.google.com/notebooks/data_table.ipynb>data table notebook</a>'\n",
              "            + ' to learn more about interactive tables.';\n",
              "          element.innerHTML = '';\n",
              "          dataTable['output_type'] = 'display_data';\n",
              "          await google.colab.output.renderOutput(dataTable, element);\n",
              "          const docLink = document.createElement('div');\n",
              "          docLink.innerHTML = docLinkHtml;\n",
              "          element.appendChild(docLink);\n",
              "        }\n",
              "      </script>\n",
              "    </div>\n",
              "  </div>\n",
              "  "
            ],
            "text/plain": [
              "   user_id  book_id  rating\n",
              "0        1      258       5\n",
              "1        2     4081       4\n",
              "2        2      260       5\n",
              "3        2     9296       5\n",
              "4        2     2318       3"
            ]
          },
          "metadata": {},
          "execution_count": 4
        }
      ]
    },
    {
      "cell_type": "code",
      "source": [
        "dataset.shape"
      ],
      "metadata": {
        "colab": {
          "base_uri": "https://localhost:8080/"
        },
        "id": "salewdpSz3qW",
        "outputId": "7a9c02d3-4f84-471c-bbdc-aa20977749fa"
      },
      "execution_count": null,
      "outputs": [
        {
          "output_type": "execute_result",
          "data": {
            "text/plain": [
              "(5976479, 3)"
            ]
          },
          "metadata": {},
          "execution_count": 5
        }
      ]
    },
    {
      "cell_type": "code",
      "source": [
        "#Splitting train and test sets\n",
        "from sklearn.model_selection import train_test_split\n",
        "train, test = train_test_split(dataset, test_size=0.2, random_state=42)"
      ],
      "metadata": {
        "id": "TEVYopkA0OPz"
      },
      "execution_count": null,
      "outputs": []
    },
    {
      "cell_type": "code",
      "source": [
        "test.shape"
      ],
      "metadata": {
        "id": "_7-nssg604_u",
        "outputId": "c7d7c0a2-c769-4cbe-e36c-4535c488771c",
        "colab": {
          "base_uri": "https://localhost:8080/"
        }
      },
      "execution_count": null,
      "outputs": [
        {
          "output_type": "execute_result",
          "data": {
            "text/plain": [
              "(1195296, 3)"
            ]
          },
          "metadata": {},
          "execution_count": 7
        }
      ]
    },
    {
      "cell_type": "code",
      "source": [
        "# Number of Users\n",
        "n_users = len(dataset.user_id.unique())\n",
        "n_users"
      ],
      "metadata": {
        "colab": {
          "base_uri": "https://localhost:8080/"
        },
        "id": "HpRKD7ugLZC0",
        "outputId": "ac60d428-2dd9-4cdf-d0e4-be1bb22c4dc6"
      },
      "execution_count": null,
      "outputs": [
        {
          "output_type": "execute_result",
          "data": {
            "text/plain": [
              "53424"
            ]
          },
          "metadata": {},
          "execution_count": 8
        }
      ]
    },
    {
      "cell_type": "code",
      "source": [
        "# Number of books\n",
        "n_books = len(dataset.book_id.unique())\n",
        "n_books"
      ],
      "metadata": {
        "colab": {
          "base_uri": "https://localhost:8080/"
        },
        "id": "7h_t5ntmL0II",
        "outputId": "578c011a-92a4-4011-f63f-fd3b84fb6305"
      },
      "execution_count": null,
      "outputs": [
        {
          "output_type": "execute_result",
          "data": {
            "text/plain": [
              "10000"
            ]
          },
          "metadata": {},
          "execution_count": 9
        }
      ]
    },
    {
      "cell_type": "markdown",
      "source": [
        "First we can try creating a simple dot product between the book embedding and user embeddings. \n",
        "Embeddings are the word(here book and user id) representations in the vector space. It depicts the surroundings of a given word. We will use Keras's Embedding class for this purpose. \n",
        "Here we are using individual unconnected Tensors and later creating a Model() out of it. Its a multi entry model and there is no hidden layer. "
      ],
      "metadata": {
        "id": "igbpZTWMO_tI"
      }
    },
    {
      "cell_type": "code",
      "source": [
        "# Input defines the entry of the tensor. Here we are indicating the shape of the input vector that this tensor flow must expect. \n",
        "# This is [1] because we will be passing only single column(vector) i.e., user_id or book_id to the tensor.\n",
        "book_input = Input(shape=[1], name=\"Book-Input\")\n",
        "#input size is number of unique book ids + 1\n",
        "book_embedding = Embedding(n_books+1, 5, name=\"Book-Embedding\")(book_input)\n",
        "#using Keras's Flatten class to flatten the embedding matrix from size n_books x 5 to n_books*5. For example, n_books is 10 then initial matrix will be \n",
        "# of size 10 x 5. Using flatten, we are converting it to 50 x 1 vector. \n",
        "book_vec = Flatten(name=\"Flatten-Books\")(book_embedding)\n",
        "\n",
        "# Doing same user_id\n",
        "user_input = Input(shape=[1], name=\"User-Input\")\n",
        "user_embedding = Embedding(n_users+1, 5, name=\"User-Embedding\")(user_input)\n",
        "user_vec = Flatten(name=\"Flatten-Users\")(user_embedding)\n",
        "\n",
        "# performing Dot product\n",
        "prod = Dot(name='Dot-Product', axes=1)([book_vec, user_vec])\n",
        "\n",
        "# Creating a Model out of above all\n",
        "model = Model([book_input, user_input], prod)\n",
        "#here in compile() first param is the optimizer and 2nd is the loss function\n",
        "model.compile('adam', 'mean_squared_error')"
      ],
      "metadata": {
        "id": "3aDqk42yPvzW"
      },
      "execution_count": null,
      "outputs": []
    },
    {
      "cell_type": "markdown",
      "source": [
        "We will use fit() method for training the model. First parameter is a list of inputs as its a multi input tensor. second parameter is the target attribute i.e., ratings column. We will also try to fetch a saved trained model if it exists, if not then train it and then save it. We can save it in either \".h5\" format or \".keras\" format. \n"
      ],
      "metadata": {
        "id": "ll49xy0KWahf"
      }
    },
    {
      "cell_type": "code",
      "source": [
        "from keras.models import load_model\n",
        "if os.path.exists('./drive/MyDrive/Models/book_recommender_model.keras'):\n",
        "    model = load_model('./drive/MyDrive/Models/book_recommender_model.keras')\n",
        "else:\n",
        "    history = model.fit([train.book_id, train.user_id], train.rating, epochs=5, verbose=1)\n",
        "    model.save('./drive/MyDrive/Models/book_recommender_model.keras')\n",
        "    plt.plot(history.history['loss'])\n",
        "    plt.xlabel(\"Epochs\")\n",
        "    plt.ylabel(\"Training Error\")"
      ],
      "metadata": {
        "colab": {
          "base_uri": "https://localhost:8080/",
          "height": 453
        },
        "id": "UxwlrD8gWX4n",
        "outputId": "ee822d0b-137d-463d-97b0-16161a8ae7e6"
      },
      "execution_count": null,
      "outputs": [
        {
          "output_type": "stream",
          "name": "stdout",
          "text": [
            "Epoch 1/5\n",
            "149412/149412 [==============================] - 847s 6ms/step - loss: 0.9197\n",
            "Epoch 2/5\n",
            "149412/149412 [==============================] - 835s 6ms/step - loss: 0.7732\n",
            "Epoch 3/5\n",
            "149412/149412 [==============================] - 832s 6ms/step - loss: 0.7351\n",
            "Epoch 4/5\n",
            "149412/149412 [==============================] - 833s 6ms/step - loss: 0.7193\n",
            "Epoch 5/5\n",
            "149412/149412 [==============================] - 828s 6ms/step - loss: 0.7104\n"
          ]
        },
        {
          "output_type": "display_data",
          "data": {
            "image/png": "[encoded data removed]",
            "text/plain": [
              "<Figure size 432x288 with 1 Axes>"
            ]
          },
          "metadata": {
            "needs_background": "light"
          }
        }
      ]
    },
    {
      "cell_type": "code",
      "source": [
        "# Cross validating the model\n",
        "model.evaluate([test.book_id, test.user_id], test.rating)"
      ],
      "metadata": {
        "colab": {
          "base_uri": "https://localhost:8080/"
        },
        "id": "dEd5YCPkyrMu",
        "outputId": "0c050fbc-c638-45d3-a225-b8efd68a9403"
      },
      "execution_count": null,
      "outputs": [
        {
          "output_type": "stream",
          "name": "stdout",
          "text": [
            "37353/37353 [==============================] - 45s 1ms/step - loss: 0.7774\n"
          ]
        },
        {
          "output_type": "execute_result",
          "data": {
            "text/plain": [
              "0.7773780226707458"
            ]
          },
          "metadata": {},
          "execution_count": 13
        }
      ]
    },
    {
      "cell_type": "markdown",
      "source": [
        "Now as the model is trained and evaluated, we will use it to make predictions. \n",
        "Ideally, this prediction should be done "
      ],
      "metadata": {
        "id": "VUI5CGOqz6aZ"
      }
    },
    {
      "cell_type": "code",
      "source": [
        "predictions = model.predict([test.book_id.head(10), test.user_id.head(10)])\n",
        "[print(predictions[i], test.rating.iloc[i]) for i in range(0,10)]"
      ],
      "metadata": {
        "colab": {
          "base_uri": "https://localhost:8080/"
        },
        "id": "g7nKlIlez6Dq",
        "outputId": "bc1739b7-e84d-42f4-d487-3bae6d772cab"
      },
      "execution_count": null,
      "outputs": [
        {
          "output_type": "stream",
          "name": "stdout",
          "text": [
            "[3.1906898] 3\n",
            "[3.0355756] 4\n",
            "[5.0599427] 5\n",
            "[2.364427] 2\n",
            "[3.060744] 4\n",
            "[4.026468] 4\n",
            "[3.7945328] 4\n",
            "[4.15826] 4\n",
            "[4.418781] 5\n",
            "[3.2861717] 4\n"
          ]
        },
        {
          "output_type": "execute_result",
          "data": {
            "text/plain": [
              "[None, None, None, None, None, None, None, None, None, None]"
            ]
          },
          "metadata": {},
          "execution_count": 17
        }
      ]
    },
    {
      "cell_type": "markdown",
      "source": [
        "Creating a fully connected Neural Network. It will have Embedding and Flatten steps but after that it will be put into the neural network as input. The output layer would have only one neuron which will provide the predicted rating.\n",
        "We will Concatenate the flattened vectors of both user and book ids and then use it an an input for the neural network."
      ],
      "metadata": {
        "id": "pWK4K2uC1c2w"
      }
    },
    {
      "cell_type": "code",
      "source": [
        "from keras.layers import Concatenate\n",
        "concat = Concatenate()([book_vec, user_vec])\n",
        "\n",
        "# adding fully connected network\n",
        "l1 = Dense(128, activation='relu')(concat)\n",
        "l2 = Dense(32, activation='relu')(l1)\n",
        "out = Dense(1)(l2)\n",
        "\n",
        "# creating a model and compiling\n",
        "model2 = Model([book_input, user_input], out)\n",
        "model2.compile('adam', 'mean_squared_error')"
      ],
      "metadata": {
        "id": "XGBCkbAQ4T1G"
      },
      "execution_count": null,
      "outputs": []
    },
    {
      "cell_type": "code",
      "source": [
        "from keras.models import load_model\n",
        "\n",
        "if os.path.exists('./drive/MyDrive/Models/book_recommender_model2.keras'):\n",
        "    model2 = load_model('./drive/MyDrive/Models/book_recommender_model2.keras')\n",
        "else:\n",
        "    history = model2.fit([train.book_id, train.user_id], train.rating, epochs=5, verbose=1)\n",
        "    model2.save('./drive/MyDrive/Models/book_recommender_model2.keras')\n",
        "    plt.plot(history.history['loss'])\n",
        "    plt.xlabel(\"Epochs\")\n",
        "    plt.ylabel(\"Training Error\")"
      ],
      "metadata": {
        "colab": {
          "base_uri": "https://localhost:8080/",
          "height": 454
        },
        "id": "xIBQVdFi5vo3",
        "outputId": "94dc2c55-a483-4559-ea02-9d8196d5967b"
      },
      "execution_count": null,
      "outputs": [
        {
          "output_type": "stream",
          "name": "stdout",
          "text": [
            "Epoch 1/5\n",
            "149412/149412 [==============================] - 974s 7ms/step - loss: 0.6476\n",
            "Epoch 2/5\n",
            "149412/149412 [==============================] - 959s 6ms/step - loss: 0.6434\n",
            "Epoch 3/5\n",
            "149412/149412 [==============================] - 967s 6ms/step - loss: 0.6401\n",
            "Epoch 4/5\n",
            "149412/149412 [==============================] - 961s 6ms/step - loss: 0.6375\n",
            "Epoch 5/5\n",
            "149412/149412 [==============================] - 973s 7ms/step - loss: 0.6352\n"
          ]
        },
        {
          "output_type": "display_data",
          "data": {
            "image/png": "[encoded data removed]",
            "text/plain": [
              "<Figure size 432x288 with 1 Axes>"
            ]
          },
          "metadata": {
            "needs_background": "light"
          }
        }
      ]
    },
    {
      "cell_type": "code",
      "source": [
        "model2.evaluate([test.book_id, test.user_id], test.rating)"
      ],
      "metadata": {
        "colab": {
          "base_uri": "https://localhost:8080/"
        },
        "id": "iJ25C26ZV2DI",
        "outputId": "f34f797e-45a1-487d-bdf6-6fe05bf413b6"
      },
      "execution_count": null,
      "outputs": [
        {
          "output_type": "stream",
          "name": "stdout",
          "text": [
            "37353/37353 [==============================] - 52s 1ms/step - loss: 0.6848\n"
          ]
        },
        {
          "output_type": "execute_result",
          "data": {
            "text/plain": [
              "0.6848421096801758"
            ]
          },
          "metadata": {},
          "execution_count": 22
        }
      ]
    },
    {
      "cell_type": "code",
      "source": [
        "predictions = model2.predict([test.book_id.head(10), test.user_id.head(10)])\n",
        "[print(predictions[i], test.rating.iloc[i]) for i in range(0,10)]"
      ],
      "metadata": {
        "colab": {
          "base_uri": "https://localhost:8080/"
        },
        "id": "QrNFyQyRc7My",
        "outputId": "181c94c9-1a99-4576-cec5-8f15e6829ba7"
      },
      "execution_count": null,
      "outputs": [
        {
          "output_type": "stream",
          "name": "stdout",
          "text": [
            "[3.1680331] 3\n",
            "[3.4820337] 4\n",
            "[4.919308] 5\n",
            "[2.036648] 2\n",
            "[3.5031645] 4\n",
            "[3.7255845] 4\n",
            "[4.4913197] 4\n",
            "[4.219663] 4\n",
            "[4.2823057] 5\n",
            "[3.4609041] 4\n"
          ]
        },
        {
          "output_type": "execute_result",
          "data": {
            "text/plain": [
              "[None, None, None, None, None, None, None, None, None, None]"
            ]
          },
          "metadata": {},
          "execution_count": 25
        }
      ]
    },
    {
      "cell_type": "markdown",
      "source": [
        "Peeking into Embeddings"
      ],
      "metadata": {
        "id": "0n-86AI1lSGd"
      }
    },
    {
      "cell_type": "code",
      "source": [
        "# Extract embeddings\n",
        "book_em = model.get_layer('Book-Embedding')\n",
        "book_em_weights = book_em.get_weights()[0]"
      ],
      "metadata": {
        "id": "jNpfu6jZlVok"
      },
      "execution_count": null,
      "outputs": []
    },
    {
      "cell_type": "code",
      "source": [
        "book_em_weights[0:5]"
      ],
      "metadata": {
        "colab": {
          "base_uri": "https://localhost:8080/"
        },
        "id": "-b51vOTVlivN",
        "outputId": "3ac11a99-ec89-437a-af2c-5a13b7abcb7d"
      },
      "execution_count": null,
      "outputs": [
        {
          "output_type": "execute_result",
          "data": {
            "text/plain": [
              "array([[-0.03041469,  0.01880708, -0.04532912, -0.02609667, -0.02700861],\n",
              "       [ 4.0429597 ,  0.3192851 , -3.9937122 ,  0.51489365,  1.5880347 ],\n",
              "       [ 3.576433  , -1.1170466 , -3.7664142 ,  0.6527292 ,  1.7401955 ],\n",
              "       [ 1.020544  ,  0.776233  , -1.8394264 ,  1.8116261 ,  0.34679794],\n",
              "       [ 4.709117  ,  0.64217335, -4.9131703 , -1.5431972 ,  1.3775752 ]],\n",
              "      dtype=float32)"
            ]
          },
          "metadata": {},
          "execution_count": 27
        }
      ]
    }
  ]
}